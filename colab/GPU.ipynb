{
  "cells": [
    {
      "cell_type": "markdown",
      "metadata": {
        "id": "kX9y5koxa58q"
      },
      "source": [
        "# You have found the old KoboldAI GPU colab!\n",
        "Because the legacy KoboldAI is incompatible with the latest colab changes we currently do not offer this version on Google Colab until a time that the dependencies can be updated.\n",
        "\n",
        "Are you here because of a tutorial? Don't worry we have a much better option.\n",
        "\n",
        "# [Click here to open KoboldCpp's colab](https://koboldai.org/colabcpp)\n",
        "KoboldCpp is our modern program compatible with the majority of software requiring KoboldAI United, loads much faster and has better models available. You can be running up to 20B models at faster speeds than this colab used to be.\n",
        "\n",
        "The catch? You will need to make sure your model is a GGUF version of the model.\n",
        "Need help? Contact us on https://koboldai.org/discord"
      ]
    }
  ],
  "metadata": {
    "accelerator": "GPU",
    "colab": {
      "name": "ColabKobold GPU",
      "private_outputs": true,
      "provenance": [],
      "gpuType": "T4"
    },
    "kernelspec": {
      "display_name": "Python 3",
      "name": "python3"
    },
    "language_info": {
      "name": "python"
    }
  },
  "nbformat": 4,
  "nbformat_minor": 0
}